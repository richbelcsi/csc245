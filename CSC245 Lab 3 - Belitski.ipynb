{
 "cells": [
  {
   "cell_type": "code",
   "execution_count": 1,
   "id": "0ce1bf31",
   "metadata": {},
   "outputs": [
    {
     "name": "stdout",
     "output_type": "stream",
     "text": [
      "  student_id              name marks\n",
      "0         S1  Danniella Fenton   200\n",
      "1         S2      Ryder Storey   210\n",
      "2         S3      Bryce Jensen   190\n",
      "3         S4         Ed Bernal   222\n",
      "4         S5       Kwame Morin   199\n",
      "5         S4  Scarlette Fisher   201\n",
      "6         S5  Carla Williamson   200\n",
      "7         S6       Dante Morse   198\n",
      "8         S7    Kaiser William   219\n",
      "9         S8   Madeeha Preston   201\n"
     ]
    }
   ],
   "source": [
    "import pandas as pd\n",
    "\n",
    "student_data1 = {\n",
    "    'student_id': ['S1', 'S2', 'S3', 'S4', 'S5'], \n",
    "    'name': ['Danniella Fenton', 'Ryder Storey', 'Bryce Jensen', 'Ed Bernal', 'Kwame Morin'],\n",
    "    'marks': ['200', '210', '190', '222', '199']\n",
    "}\n",
    "\n",
    "student_data2 = {\n",
    "    'student_id': ['S4', 'S5', 'S6', 'S7', 'S8'], \n",
    "    'name': ['Scarlette Fisher', 'Carla Williamson', 'Dante Morse', 'Kaiser William', 'Madeeha Preston'],\n",
    "    'marks': ['201', '200', '198', '219', '201']\n",
    "}\n",
    "\n",
    "student_data1 = pd.DataFrame(student_data1)\n",
    "student_data2 = pd.DataFrame(student_data2)\n",
    "\n",
    "student_data_combined = pd.concat([student_data1, student_data2], ignore_index=True)\n",
    "\n",
    "print(student_data_combined)"
   ]
  },
  {
   "cell_type": "code",
   "execution_count": 2,
   "id": "1e88d27b",
   "metadata": {},
   "outputs": [
    {
     "name": "stdout",
     "output_type": "stream",
     "text": [
      "  student_id            name_1 marks_1            name_2 marks_2\n",
      "0         S1  Danniella Fenton     200               NaN     NaN\n",
      "1         S2      Ryder Storey     210               NaN     NaN\n",
      "2         S3      Bryce Jensen     190               NaN     NaN\n",
      "3         S4         Ed Bernal     222  Scarlette Fisher     201\n",
      "4         S5       Kwame Morin     199  Carla Williamson     200\n",
      "5         S6               NaN     NaN       Dante Morse     198\n",
      "6         S7               NaN     NaN    Kaiser William     219\n",
      "7         S8               NaN     NaN   Madeeha Preston     201\n"
     ]
    }
   ],
   "source": [
    "student_data_combined = pd.merge(student_data1, student_data2, on='student_id', suffixes=('_1', '_2'), how='outer')\n",
    "\n",
    "print(student_data_combined)"
   ]
  },
  {
   "cell_type": "code",
   "execution_count": 2,
   "id": "c15439e3",
   "metadata": {},
   "outputs": [
    {
     "name": "stdout",
     "output_type": "stream",
     "text": [
      "  student_id              name marks\n",
      "0         S1  Danniella Fenton   200\n",
      "1         S2      Ryder Storey   210\n",
      "2         S3      Bryce Jensen   190\n",
      "3         S4         Ed Bernal   222\n",
      "4         S5       Kwame Morin   199\n",
      "5         S6  Scarlette Fisher   205\n"
     ]
    }
   ],
   "source": [
    "import pandas as pd\n",
    "\n",
    "student_data1 = {\n",
    "    'student_id': ['S1', 'S2', 'S3', 'S4', 'S5'], \n",
    "    'name': ['Danniella Fenton', 'Ryder Storey', 'Bryce Jensen', 'Ed Bernal', 'Kwame Morin'],\n",
    "    'marks': ['200', '210', '190', '222', '199']\n",
    "}\n",
    "\n",
    "new_row = pd.DataFrame([{'student_id': 'S6', 'name': 'Scarlette Fisher', 'marks': '205'}]) \n",
    "\n",
    "student_data1 = pd.DataFrame(student_data1)\n",
    "\n",
    "combined_data = pd.concat([student_data1, new_row], ignore_index=True)\n",
    "\n",
    "print(combined_data)"
   ]
  },
  {
   "cell_type": "code",
   "execution_count": 7,
   "id": "f71aa9b2",
   "metadata": {},
   "outputs": [
    {
     "name": "stdout",
     "output_type": "stream",
     "text": [
      "  student_id              name marks\n",
      "0         S1  Danniella Fenton   200\n",
      "1         S2      Ryder Storey   210\n",
      "2         S3      Bryce Jensen   190\n",
      "3         S4         Ed Bernal   222\n",
      "4         S5       Kwame Morin   199\n",
      "5         S6  Scarlette Fisher   205\n"
     ]
    }
   ],
   "source": [
    "new_data_dict = {\n",
    "    'student_id': 'S6', \n",
    "    'name': 'Scarlette Fisher', \n",
    "    'marks': '205'\n",
    "}\n",
    "\n",
    "new_row = pd.DataFrame([new_data_dict])\n",
    "\n",
    "combined_data = pd.concat([student_data1, new_row], ignore_index=True)\n",
    "\n",
    "print(combined_data)"
   ]
  },
  {
   "cell_type": "code",
   "execution_count": 11,
   "id": "09e01513",
   "metadata": {},
   "outputs": [
    {
     "name": "stdout",
     "output_type": "stream",
     "text": [
      "  student_id              name marks  exam_id\n",
      "0         S1  Danniella Fenton   200     23.0\n",
      "1         S2      Ryder Storey   210     45.0\n",
      "2         S3      Bryce Jensen   190     12.0\n",
      "3         S4         Ed Bernal   222     67.0\n",
      "4         S5       Kwame Morin   199     21.0\n",
      "5         S4  Scarlette Fisher   201     67.0\n",
      "6         S5  Carla Williamson   200     21.0\n",
      "7         S6       Dante Morse   198      NaN\n",
      "8         S7    Kaiser William   219     55.0\n",
      "9         S8   Madeeha Preston   201     33.0\n"
     ]
    }
   ],
   "source": [
    "exam_data = {\n",
    "    'student_id': ['S1', 'S2', 'S3', 'S4', 'S5', 'S7', 'S8', 'S9', 'S10', 'S11', 'S12', 'S13'],\n",
    "    'exam_id': [23, 45, 12, 67, 21, 55, 33, 14, 56, 83, 88, 12]\n",
    "}\n",
    "\n",
    "student_data2 = {\n",
    "    'student_id': ['S4', 'S5', 'S6', 'S7', 'S8'], \n",
    "    'name': ['Scarlette Fisher', 'Carla Williamson', 'Dante Morse', 'Kaiser William', 'Madeeha Preston'],\n",
    "    'marks': ['201', '200', '198', '219', '201']\n",
    "}\n",
    "\n",
    "exam_data = pd.DataFrame(exam_data)\n",
    "student_data2 = pd.DataFrame(student_data2)\n",
    "\n",
    "all_student_data = pd.concat([student_data1, student_data2], ignore_index=True)\n",
    "\n",
    "final_data = pd.merge(all_student_data, exam_data, on='student_id', how='left')\n",
    "\n",
    "print(final_data)"
   ]
  },
  {
   "cell_type": "code",
   "execution_count": 12,
   "id": "6bf36951",
   "metadata": {},
   "outputs": [
    {
     "name": "stdout",
     "output_type": "stream",
     "text": [
      "  student_id       name_1 marks_1            name_2 marks_2\n",
      "0         S4    Ed Bernal     222  Scarlette Fisher     201\n",
      "1         S5  Kwame Morin     199  Carla Williamson     200\n"
     ]
    }
   ],
   "source": [
    "joined_data = pd.merge(student_data1, student_data2, on='student_id', suffixes=('_1', '_2'), how='inner')\n",
    "\n",
    "print(joined_data)"
   ]
  },
  {
   "cell_type": "code",
   "execution_count": 13,
   "id": "2ade9bde",
   "metadata": {},
   "outputs": [
    {
     "name": "stdout",
     "output_type": "stream",
     "text": [
      "  student_id       name_1 marks_1            name_2 marks_2\n",
      "0         S4    Ed Bernal     222  Scarlette Fisher     201\n",
      "1         S5  Kwame Morin     199  Carla Williamson     200\n"
     ]
    }
   ],
   "source": [
    "matched_records = pd.merge(student_data1, student_data2, on='student_id', suffixes=('_1', '_2'), how='inner')\n",
    "\n",
    "print(matched_records)"
   ]
  },
  {
   "cell_type": "code",
   "execution_count": 14,
   "id": "167773fa",
   "metadata": {},
   "outputs": [
    {
     "name": "stdout",
     "output_type": "stream",
     "text": [
      "  key1 key2   P   Q    R    S\n",
      "0   K0   K0  P0  Q0   R0   S0\n",
      "1   K0   K1  P1  Q1  NaN  NaN\n",
      "2   K1   K0  P2  Q2   R1   S1\n",
      "3   K1   K0  P2  Q2   R2   S2\n",
      "4   K2   K1  P3  Q3  NaN  NaN\n"
     ]
    }
   ],
   "source": [
    "data1 = {\n",
    "    'key1': ['K0', 'K0', 'K1', 'K2'],\n",
    "    'key2': ['K0', 'K1', 'K0', 'K1'],\n",
    "    'P': ['P0', 'P1', 'P2', 'P3'],\n",
    "    'Q': ['Q0', 'Q1', 'Q2', 'Q3']\n",
    "}\n",
    "\n",
    "data2 = {\n",
    "    'key1': ['K0', 'K1', 'K1', 'K2'],\n",
    "    'key2': ['K0', 'K0', 'K0', 'K0'],\n",
    "    'R': ['R0', 'R1', 'R2', 'R3'],\n",
    "    'S': ['S0', 'S1', 'S2', 'S3']\n",
    "}\n",
    "\n",
    "dataFrame_1 = pd.DataFrame(data1)\n",
    "dataFrame_2 = pd.DataFrame(data2)\n",
    "\n",
    "left_join_data = pd.merge(dataFrame_1, dataFrame_2, on=['key1', 'key2'], how='left')\n",
    "\n",
    "print(left_join_data)"
   ]
  },
  {
   "cell_type": "code",
   "execution_count": 2,
   "id": "d7431598",
   "metadata": {},
   "outputs": [
    {
     "name": "stdout",
     "output_type": "stream",
     "text": [
      "  key1 key2    P    Q   R   S\n",
      "0   K0   K0   P0   Q0  R0  S0\n",
      "1   K1   K0   P2   Q2  R1  S1\n",
      "2   K1   K0   P2   Q2  R2  S2\n",
      "3   K2   K0  NaN  NaN  R3  S3\n"
     ]
    }
   ],
   "source": [
    "import pandas as pd\n",
    "\n",
    "data1 = {\n",
    "    'key1': ['K0', 'K0', 'K1', 'K2'],\n",
    "    'key2': ['K0', 'K1', 'K0', 'K1'],\n",
    "    'P': ['P0', 'P1', 'P2', 'P3'],\n",
    "    'Q': ['Q0', 'Q1', 'Q2', 'Q3']\n",
    "}\n",
    "\n",
    "data2 = {\n",
    "    'key1': ['K0', 'K1', 'K1', 'K2'],\n",
    "    'key2': ['K0', 'K0', 'K0', 'K0'],\n",
    "    'R': ['R0', 'R1', 'R2', 'R3'],\n",
    "    'S': ['S0', 'S1', 'S2', 'S3']\n",
    "}\n",
    "\n",
    "dataFrame_1 = pd.DataFrame(data1)\n",
    "dataFrame_2 = pd.DataFrame(data2)\n",
    "\n",
    "right_join_data = pd.merge(dataFrame_1, dataFrame_2, on=['key1', 'key2'], how='right')\n",
    "\n",
    "print(right_join_data)"
   ]
  },
  {
   "cell_type": "code",
   "execution_count": 3,
   "id": "57474408",
   "metadata": {},
   "outputs": [
    {
     "name": "stdout",
     "output_type": "stream",
     "text": [
      "  key1 key2   P   Q   R   S\n",
      "0   K0   K0  P0  Q0  R0  S0\n",
      "1   K1   K0  P2  Q2  R1  S1\n",
      "2   K1   K0  P2  Q2  R2  S2\n"
     ]
    }
   ],
   "source": [
    "merged_data = pd.merge(dataFrame_1, dataFrame_2, on=['key1', 'key2'])\n",
    "\n",
    "print(merged_data)"
   ]
  },
  {
   "cell_type": "code",
   "execution_count": 4,
   "id": "2e7283f4",
   "metadata": {},
   "outputs": [
    {
     "name": "stdout",
     "output_type": "stream",
     "text": [
      "   New_Column1 New_Column2\n",
      "0            1           A\n",
      "1            2           B\n",
      "2            3           C\n",
      "3            4           D\n",
      "4            5           E\n"
     ]
    }
   ],
   "source": [
    "series1 = pd.Series([1, 2, 3, 4, 5])\n",
    "series2 = pd.Series(['A', 'B', 'C', 'D', 'E'])\n",
    "\n",
    "new_dataframe = pd.DataFrame({'Column1': series1, 'Column2': series2})\n",
    "\n",
    "new_dataframe.columns = ['New_Column1', 'New_Column2']\n",
    "\n",
    "print(new_dataframe)"
   ]
  },
  {
   "cell_type": "code",
   "execution_count": 5,
   "id": "69ca71ec",
   "metadata": {},
   "outputs": [
    {
     "name": "stdout",
     "output_type": "stream",
     "text": [
      "  key1 key2   P   Q   R   S\n",
      "1   K1   K0  P2  Q2  R1  S1\n",
      "2   K1   K0  P2  Q2  R2  S2\n"
     ]
    }
   ],
   "source": [
    "merged_data = pd.merge(dataFrame_1, dataFrame_2, on=['key1', 'key2'])\n",
    "\n",
    "combination_appears_more_than_once = merged_data[merged_data.duplicated(subset=['key1', 'key2'], keep=False)]\n",
    "\n",
    "print(combination_appears_more_than_once)"
   ]
  },
  {
   "cell_type": "code",
   "execution_count": 6,
   "id": "8279f8be",
   "metadata": {},
   "outputs": [
    {
     "name": "stdout",
     "output_type": "stream",
     "text": [
      "      A    B    C    D\n",
      "K0   A0   B0   C0   D0\n",
      "K1   A1   B1  NaN  NaN\n",
      "K2   A2   B2   C2   D2\n",
      "K3  NaN  NaN   C3   D3\n"
     ]
    }
   ],
   "source": [
    "data1 = {\n",
    "    'A': ['A0', 'A1', 'A2'],\n",
    "    'B': ['B0', 'B1', 'B2']\n",
    "}\n",
    "\n",
    "data2 = {\n",
    "    'C': ['C0', 'C2', 'C3'],\n",
    "    'D': ['D0', 'D2', 'D3']\n",
    "}\n",
    "\n",
    "dataFrame_1 = pd.DataFrame(data1, index=['K0', 'K1', 'K2'])\n",
    "dataFrame_2 = pd.DataFrame(data2, index=['K0', 'K2', 'K3'])\n",
    "\n",
    "result = pd.concat([dataFrame_1, dataFrame_2], axis=1)\n",
    "\n",
    "print(result)"
   ]
  },
  {
   "cell_type": "code",
   "execution_count": 7,
   "id": "a2a26295",
   "metadata": {},
   "outputs": [
    {
     "name": "stdout",
     "output_type": "stream",
     "text": [
      "  key1 key2   P   Q   R   S\n",
      "0   K0   K0  P0  Q0  R0  S0\n",
      "1   K1   K0  P2  Q2  R1  S1\n",
      "2   K1   K0  P2  Q2  R2  S2\n"
     ]
    }
   ],
   "source": [
    "data1 = {\n",
    "    'key1': ['K0', 'K0', 'K1', 'K2'],\n",
    "    'key2': ['K0', 'K1', 'K0', 'K1'],\n",
    "    'P': ['P0', 'P1', 'P2', 'P3'],\n",
    "    'Q': ['Q0', 'Q1', 'Q2', 'Q3']\n",
    "}\n",
    "\n",
    "data2 = {\n",
    "    'key1': ['K0', 'K1', 'K1', 'K2'],\n",
    "    'key2': ['K0', 'K0', 'K0', 'K0'],\n",
    "    'R': ['R0', 'R1', 'R2', 'R3'],\n",
    "    'S': ['S0', 'S1', 'S2', 'S3']\n",
    "}\n",
    "\n",
    "dataFrame_1 = pd.DataFrame(data1)\n",
    "dataFrame_2 = pd.DataFrame(data2)\n",
    "\n",
    "merged_data = pd.merge(dataFrame_1, dataFrame_2, on=['key1', 'key2'])\n",
    "\n",
    "print(merged_data)"
   ]
  },
  {
   "cell_type": "code",
   "execution_count": 8,
   "id": "bb714eeb",
   "metadata": {},
   "outputs": [
    {
     "name": "stdout",
     "output_type": "stream",
     "text": [
      "     A    B\n",
      "0  1.0  3.0\n",
      "1  0.0  4.0\n",
      "2  3.0  5.0\n"
     ]
    }
   ],
   "source": [
    "import numpy as np\n",
    "\n",
    "dataFrame_1 = pd.DataFrame({'A': [np.nan, 0.0, np.nan], 'B': [3, 4, 5]})\n",
    "dataFrame_2 = pd.DataFrame({'A': [1, 1, 3], 'B': [3.0, np.nan, 3.0]})\n",
    "\n",
    "combined_dataFrame = dataFrame_1.combine_first(dataFrame_2)\n",
    "\n",
    "print(combined_dataFrame)"
   ]
  },
  {
   "cell_type": "code",
   "execution_count": null,
   "id": "4072488c",
   "metadata": {},
   "outputs": [],
   "source": []
  }
 ],
 "metadata": {
  "kernelspec": {
   "display_name": "Python 3 (ipykernel)",
   "language": "python",
   "name": "python3"
  },
  "language_info": {
   "codemirror_mode": {
    "name": "ipython",
    "version": 3
   },
   "file_extension": ".py",
   "mimetype": "text/x-python",
   "name": "python",
   "nbconvert_exporter": "python",
   "pygments_lexer": "ipython3",
   "version": "3.11.5"
  }
 },
 "nbformat": 4,
 "nbformat_minor": 5
}
