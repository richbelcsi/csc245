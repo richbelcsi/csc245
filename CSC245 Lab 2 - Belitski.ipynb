{
 "cells": [
  {
   "cell_type": "code",
   "execution_count": 1,
   "id": "129ace8c",
   "metadata": {},
   "outputs": [
    {
     "name": "stdout",
     "output_type": "stream",
     "text": [
      "One-dimensional array-like object:\n",
      "0    10\n",
      "1    20\n",
      "2    30\n",
      "3    40\n",
      "4    50\n",
      "dtype: int64\n"
     ]
    }
   ],
   "source": [
    "import pandas as pd\n",
    "\n",
    "data = [10, 20, 30 ,40, 50]\n",
    "\n",
    "series_object = pd.Series(data)\n",
    "\n",
    "print(\"One-dimensional array-like object:\")\n",
    "print(series_object)"
   ]
  },
  {
   "cell_type": "code",
   "execution_count": 3,
   "id": "6350503c",
   "metadata": {},
   "outputs": [
    {
     "name": "stdout",
     "output_type": "stream",
     "text": [
      "Python list: [10, 20, 30, 40, 50]\n",
      "Type of python list: <class 'list'>\n"
     ]
    }
   ],
   "source": [
    "data = [10, 20, 30, 40, 50]\n",
    "\n",
    "series_object = pd.Series(data)\n",
    "python_list = series_object.tolist()\n",
    "\n",
    "print(\"Python list:\", python_list)\n",
    "print(\"Type of python list:\", type(python_list))"
   ]
  },
  {
   "cell_type": "raw",
   "id": "e5e8aa39",
   "metadata": {},
   "source": [
    "series1 = pd.Series([2, 4, 6, 8, 10])\n",
    "series2 = pd.Series([1, 3, 5, 7, 9])\n",
    "\n",
    "add_result = series1 + series2\n",
    "sub_result = series1 - series2\n",
    "mul_result = series1 * series2\n",
    "div_result = series1 / series2\n",
    "\n",
    "print(\"Addition Result:\")\n",
    "print(add_result)\n",
    "print(\"\\nSubtraction Result:\")\n",
    "print(sub_result)\n",
    "print(\"\\nMultiplication Result:\")\n",
    "print(mul_result)\n",
    "print(\"\\nDivision Result:\")\n",
    "print(div_result)"
   ]
  },
  {
   "cell_type": "code",
   "execution_count": 4,
   "id": "f08b03f1",
   "metadata": {},
   "outputs": [
    {
     "name": "stdout",
     "output_type": "stream",
     "text": [
      "Addition Result:\n",
      "0     3\n",
      "1     7\n",
      "2    11\n",
      "3    15\n",
      "4    19\n",
      "dtype: int64\n",
      "\n",
      "Subtraction Result:\n",
      "0    1\n",
      "1    1\n",
      "2    1\n",
      "3    1\n",
      "4    1\n",
      "dtype: int64\n",
      "\n",
      "Multiplication Result:\n",
      "0     2\n",
      "1    12\n",
      "2    30\n",
      "3    56\n",
      "4    90\n",
      "dtype: int64\n",
      "\n",
      "Division Result:\n",
      "0    2.000000\n",
      "1    1.333333\n",
      "2    1.200000\n",
      "3    1.142857\n",
      "4    1.111111\n",
      "dtype: float64\n"
     ]
    }
   ],
   "source": [
    "series1 = pd.Series([2, 4, 6, 8, 10])\n",
    "series2 = pd.Series([1, 3, 5, 7, 9])\n",
    "\n",
    "add_result = series1 + series2\n",
    "sub_result = series1 - series2\n",
    "mul_result = series1 * series2\n",
    "div_result = series1 / series2\n",
    "\n",
    "print(\"Addition Result:\")\n",
    "print(add_result)\n",
    "print(\"\\nSubtraction Result:\")\n",
    "print(sub_result)\n",
    "print(\"\\nMultiplication Result:\")\n",
    "print(mul_result)\n",
    "print(\"\\nDivision Result:\")\n",
    "print(div_result)"
   ]
  },
  {
   "cell_type": "code",
   "execution_count": 5,
   "id": "2e0057fe",
   "metadata": {},
   "outputs": [
    {
     "name": "stdout",
     "output_type": "stream",
     "text": [
      "Equal to:\n",
      "0    False\n",
      "1    False\n",
      "2    False\n",
      "3    False\n",
      "4    False\n",
      "dtype: bool\n",
      "Not equal to:\n",
      "0    True\n",
      "1    True\n",
      "2    True\n",
      "3    True\n",
      "4    True\n",
      "dtype: bool\n",
      "Greater than:\n",
      "0    True\n",
      "1    True\n",
      "2    True\n",
      "3    True\n",
      "4    True\n",
      "dtype: bool\n",
      "Less than\n",
      "0    False\n",
      "1    False\n",
      "2    False\n",
      "3    False\n",
      "4    False\n",
      "dtype: bool\n",
      "Greater than or equal to:\n",
      "0    True\n",
      "1    True\n",
      "2    True\n",
      "3    True\n",
      "4    True\n",
      "dtype: bool\n",
      "Less than or equal to:\n",
      "0    False\n",
      "1    False\n",
      "2    False\n",
      "3    False\n",
      "4    False\n",
      "dtype: bool\n"
     ]
    }
   ],
   "source": [
    "series1 = pd.Series([2, 4, 6, 8, 10])\n",
    "series2 = pd.Series([1, 3, 5, 7, 9])\n",
    "\n",
    "equal_to = series1 == series2\n",
    "not_equal_to = series1 != series2\n",
    "greater_than = series1 > series2\n",
    "less_than = series1 < series2\n",
    "greater_than_or_equal_to = series1 >= series2\n",
    "less_than_or_equal_to = series1 <= series2\n",
    "\n",
    "print(\"Equal to:\")\n",
    "print(equal_to)\n",
    "print(\"Not equal to:\")\n",
    "print(not_equal_to)\n",
    "print(\"Greater than:\")\n",
    "print(greater_than)\n",
    "print(\"Less than\")\n",
    "print(less_than)\n",
    "print(\"Greater than or equal to:\")\n",
    "print(greater_than_or_equal_to)\n",
    "print(\"Less than or equal to:\")\n",
    "print(less_than_or_equal_to)"
   ]
  },
  {
   "cell_type": "code",
   "execution_count": 7,
   "id": "91798ada",
   "metadata": {},
   "outputs": [
    {
     "name": "stdout",
     "output_type": "stream",
     "text": [
      "Panda series from original dictionary:\n",
      "a    100\n",
      "b    200\n",
      "c    300\n",
      "d    400\n",
      "e    800\n",
      "dtype: int64\n"
     ]
    }
   ],
   "source": [
    "original_dict = {'a': 100, 'b': 200, 'c': 300, 'd': 400, 'e': 800}\n",
    "\n",
    "series_from_dict = pd.Series(original_dict)\n",
    "\n",
    "print(\"Panda series from original dictionary:\")\n",
    "print(series_from_dict)"
   ]
  },
  {
   "cell_type": "code",
   "execution_count": 8,
   "id": "4f1c3924",
   "metadata": {},
   "outputs": [
    {
     "name": "stdout",
     "output_type": "stream",
     "text": [
      "Numpy array to a panda series:\n",
      "0    10\n",
      "1    20\n",
      "2    30\n",
      "3    40\n",
      "4    50\n",
      "dtype: int32\n"
     ]
    }
   ],
   "source": [
    "import numpy as np\n",
    "\n",
    "numpy_array = np.array([10, 20, 30, 40, 50])\n",
    "\n",
    "series_from_numpy = pd.Series(numpy_array)\n",
    "\n",
    "print(\"Numpy array to a panda series:\")\n",
    "print(series_from_numpy)"
   ]
  },
  {
   "cell_type": "code",
   "execution_count": 10,
   "id": "e4c922f4",
   "metadata": {},
   "outputs": [
    {
     "name": "stdout",
     "output_type": "stream",
     "text": [
      "Original series:\n",
      "0       100\n",
      "1       200\n",
      "2    python\n",
      "3    300.12\n",
      "4       400\n",
      "dtype: object\n",
      "Panda series to numeric series:\n",
      "0    100.00\n",
      "1    200.00\n",
      "2       NaN\n",
      "3    300.12\n",
      "4    400.00\n",
      "dtype: float64\n"
     ]
    }
   ],
   "source": [
    "original_series = pd.Series(['100', '200', 'python', '300.12', '400'])\n",
    "\n",
    "numeric_series = pd.to_numeric(original_series, errors='coerce')\n",
    "\n",
    "print(\"Original series:\")\n",
    "print(original_series)\n",
    "print(\"Panda series to numeric series:\")\n",
    "print(numeric_series)"
   ]
  },
  {
   "cell_type": "code",
   "execution_count": 12,
   "id": "39107629",
   "metadata": {},
   "outputs": [
    {
     "name": "stdout",
     "output_type": "stream",
     "text": [
      "First column as a series:\n",
      "0     1\n",
      "1     2\n",
      "2     3\n",
      "3     4\n",
      "4     7\n",
      "5    11\n",
      "Name: col1, dtype: int64\n",
      "<class 'pandas.core.series.Series'>\n"
     ]
    }
   ],
   "source": [
    "data = {\n",
    "    'col1': [1, 2, 3, 4, 7, 11],\n",
    "    'col2': [4, 5, 6, 9, 5, 0],\n",
    "    'col3': [7, 5, 8, 12, 1, 11]\n",
    "}\n",
    "dataframe = pd.DataFrame(data)\n",
    "\n",
    "first_column_series = pd.Series(dataframe['col1'])\n",
    "\n",
    "print(\"First column as a series:\")\n",
    "print(first_column_series)\n",
    "\n",
    "print(type(first_column_series))"
   ]
  },
  {
   "cell_type": "code",
   "execution_count": 15,
   "id": "dd5de878",
   "metadata": {},
   "outputs": [
    {
     "name": "stdout",
     "output_type": "stream",
     "text": [
      "Original series:\n",
      "0       100\n",
      "1       200\n",
      "2    python\n",
      "3    300.12\n",
      "4       400\n",
      "dtype: object\n",
      "Series to an array:\n",
      "['100' '200' 'python' '300.12' '400']\n",
      "<class 'numpy.ndarray'>\n"
     ]
    }
   ],
   "source": [
    "original_series = pd.Series(['100', '200', 'python', '300.12', '400'])\n",
    "\n",
    "print(\"Original series:\")\n",
    "print(original_series)\n",
    "\n",
    "array_from_series = original_series.values\n",
    "\n",
    "print(\"Series to an array:\")\n",
    "print(array_from_series)\n",
    "      \n",
    "print(type(array_from_series))"
   ]
  },
  {
   "cell_type": "code",
   "execution_count": 2,
   "id": "82d88e56",
   "metadata": {},
   "outputs": [
    {
     "name": "stdout",
     "output_type": "stream",
     "text": [
      "    X   Y   Z\n",
      "0  78  84  86\n",
      "1  85  94  97\n",
      "2  96  89  96\n",
      "3  80  83  72\n",
      "4  86  86  83\n"
     ]
    }
   ],
   "source": [
    "import pandas as pd\n",
    "\n",
    "dataFrame = {'X': [78, 85, 96, 80, 86], 'Y': [84, 94, 89, 83, 86], 'Z': [86, 97, 96, 72, 83]}\n",
    "\n",
    "dataFrame = pd.DataFrame(dataFrame)\n",
    "\n",
    "print(dataFrame)"
   ]
  },
  {
   "cell_type": "code",
   "execution_count": 5,
   "id": "e269c839",
   "metadata": {},
   "outputs": [
    {
     "name": "stdout",
     "output_type": "stream",
     "text": [
      "   attempts       name qualify  score\n",
      "a         1  Anastasia     yes   12.5\n",
      "b         3       Dima      no    9.0\n",
      "c         2  Katherine     yes   16.5\n",
      "d         3      James      no    NaN\n",
      "e         2      Emily      no    9.0\n",
      "f         3    Michael     yes   20.0\n",
      "g         1    Matthew     yes   14.5\n",
      "h         1      Laura      no    NaN\n",
      "i         2      Kevin      no    8.0\n",
      "j         1      Jonas     yes   19.0\n"
     ]
    }
   ],
   "source": [
    "import numpy as np\n",
    "\n",
    "exam_data = {\n",
    "    'attempts': [1, 3, 2, 3, 2, 3, 1, 1, 2, 1],\n",
    "    'name': ['Anastasia', 'Dima', 'Katherine', 'James', 'Emily', 'Michael', 'Matthew', 'Laura', 'Kevin', 'Jonas'],\n",
    "    'qualify': ['yes', 'no', 'yes', 'no', 'no', 'yes', 'yes', 'no', 'no', 'yes'],\n",
    "    'score': [12.5, 9, 16.5, np.nan, 9, 20, 14.5, np.nan, 8, 19]\n",
    "}\n",
    "\n",
    "labels = ['a', 'b', 'c', 'd', 'e', 'f', 'g', 'h', 'i', 'j']\n",
    "\n",
    "dataFrame = pd.DataFrame(exam_data, index=labels)\n",
    "\n",
    "print(dataFrame)"
   ]
  },
  {
   "cell_type": "code",
   "execution_count": 6,
   "id": "49469475",
   "metadata": {},
   "outputs": [
    {
     "name": "stdout",
     "output_type": "stream",
     "text": [
      "Summary of the basic information about this DataFrame and its data:\n",
      "<class 'pandas.core.frame.DataFrame'>\n",
      "Index: 10 entries, a to j\n",
      "Data columns (total 4 columns):\n",
      " #   Column    Non-Null Count  Dtype  \n",
      "---  ------    --------------  -----  \n",
      " 0   attempts  10 non-null     int64  \n",
      " 1   name      10 non-null     object \n",
      " 2   qualify   10 non-null     object \n",
      " 3   score     8 non-null      float64\n",
      "dtypes: float64(1), int64(1), object(2)\n",
      "memory usage: 400.0+ bytes\n",
      "None\n"
     ]
    }
   ],
   "source": [
    "print(\"Summary of the basic information about this DataFrame and its data:\")\n",
    "print(dataFrame.info())"
   ]
  },
  {
   "cell_type": "code",
   "execution_count": 7,
   "id": "7cc0b3ef",
   "metadata": {},
   "outputs": [
    {
     "name": "stdout",
     "output_type": "stream",
     "text": [
      "First three rows of the data frame:\n",
      "   attempts       name qualify  score\n",
      "a         1  Anastasia     yes   12.5\n",
      "b         3       Dima      no    9.0\n",
      "c         2  Katherine     yes   16.5\n"
     ]
    }
   ],
   "source": [
    "first_three_rows = dataFrame.head(3)\n",
    "\n",
    "print(\"First three rows of the data frame:\")\n",
    "print(first_three_rows)"
   ]
  },
  {
   "cell_type": "code",
   "execution_count": 8,
   "id": "859b119b",
   "metadata": {},
   "outputs": [
    {
     "name": "stdout",
     "output_type": "stream",
     "text": [
      "Select specific columns:\n",
      "        name  score\n",
      "a  Anastasia   12.5\n",
      "b       Dima    9.0\n",
      "c  Katherine   16.5\n",
      "d      James    NaN\n",
      "e      Emily    9.0\n",
      "f    Michael   20.0\n",
      "g    Matthew   14.5\n",
      "h      Laura    NaN\n",
      "i      Kevin    8.0\n",
      "j      Jonas   19.0\n"
     ]
    }
   ],
   "source": [
    "selected_columns = dataFrame[['name', 'score']]\n",
    "\n",
    "print(\"Select specific columns:\")\n",
    "print(selected_columns)"
   ]
  },
  {
   "cell_type": "code",
   "execution_count": 9,
   "id": "3f68f6e8",
   "metadata": {},
   "outputs": [
    {
     "name": "stdout",
     "output_type": "stream",
     "text": [
      "Select specific columns and rows:\n",
      "   score qualify\n",
      "b    9.0      no\n",
      "d    NaN      no\n",
      "f   20.0     yes\n",
      "g   14.5     yes\n"
     ]
    }
   ],
   "source": [
    "selected_data = dataFrame.loc[['b', 'd', 'f', 'g'], ['score', 'qualify']]\n",
    "\n",
    "print(\"Select specific columns and rows:\")\n",
    "print(selected_data)"
   ]
  },
  {
   "cell_type": "code",
   "execution_count": 10,
   "id": "e1c31de8",
   "metadata": {},
   "outputs": [
    {
     "name": "stdout",
     "output_type": "stream",
     "text": [
      "Number of attempts in the examination is greater than 2:\n",
      "   attempts     name qualify  score\n",
      "b         3     Dima      no    9.0\n",
      "d         3    James      no    NaN\n",
      "f         3  Michael     yes   20.0\n"
     ]
    }
   ],
   "source": [
    "result_dataFrame = dataFrame[dataFrame['attempts'] > 2]\n",
    "\n",
    "print(\"Number of attempts in the examination is greater than 2:\")\n",
    "print(result_dataFrame)"
   ]
  },
  {
   "cell_type": "code",
   "execution_count": 11,
   "id": "414f927a",
   "metadata": {},
   "outputs": [
    {
     "name": "stdout",
     "output_type": "stream",
     "text": [
      "Number of Rows: 10\n",
      "Number of Columns: 4\n"
     ]
    }
   ],
   "source": [
    "num_rows = dataFrame.shape[0]\n",
    "num_columns = dataFrame.shape[1]\n",
    "\n",
    "print(\"Number of Rows:\", num_rows)\n",
    "print(\"Number of Columns:\", num_columns)"
   ]
  },
  {
   "cell_type": "code",
   "execution_count": 12,
   "id": "dc2b8231",
   "metadata": {},
   "outputs": [
    {
     "name": "stdout",
     "output_type": "stream",
     "text": [
      "Rows where score is missing:\n",
      "   attempts   name qualify  score\n",
      "d         3  James      no    NaN\n",
      "h         1  Laura      no    NaN\n"
     ]
    }
   ],
   "source": [
    "missing_score_rows = dataFrame[dataFrame['score'].isnull()]\n",
    "\n",
    "print(\"Rows where score is missing:\")\n",
    "print(missing_score_rows)"
   ]
  },
  {
   "cell_type": "code",
   "execution_count": 13,
   "id": "c93f17fb",
   "metadata": {},
   "outputs": [
    {
     "name": "stdout",
     "output_type": "stream",
     "text": [
      "Rows where score is between 15 and 20 (inclusive):\n",
      "   attempts       name qualify  score\n",
      "c         2  Katherine     yes   16.5\n",
      "f         3    Michael     yes   20.0\n",
      "j         1      Jonas     yes   19.0\n"
     ]
    }
   ],
   "source": [
    "score_between_15_and_20 = dataFrame[(dataFrame['score'] >= 15) & (dataFrame['score'] <= 20)]\n",
    "\n",
    "print(\"Rows where score is between 15 and 20 (inclusive):\")\n",
    "print(score_between_15_and_20)"
   ]
  },
  {
   "cell_type": "code",
   "execution_count": null,
   "id": "d0869cde",
   "metadata": {},
   "outputs": [],
   "source": []
  }
 ],
 "metadata": {
  "kernelspec": {
   "display_name": "Python 3 (ipykernel)",
   "language": "python",
   "name": "python3"
  },
  "language_info": {
   "codemirror_mode": {
    "name": "ipython",
    "version": 3
   },
   "file_extension": ".py",
   "mimetype": "text/x-python",
   "name": "python",
   "nbconvert_exporter": "python",
   "pygments_lexer": "ipython3",
   "version": "3.11.5"
  }
 },
 "nbformat": 4,
 "nbformat_minor": 5
}
